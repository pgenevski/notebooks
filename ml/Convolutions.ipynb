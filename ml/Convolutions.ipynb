{
 "cells": [
  {
   "cell_type": "code",
   "execution_count": 7,
   "metadata": {},
   "outputs": [
    {
     "name": "stdout",
     "output_type": "stream",
     "text": [
      "Data shape:  (?, 100, 100, 1)\n",
      "Conv output shape:  (?, 98, 98, 1)\n"
     ]
    }
   ],
   "source": [
    "import tensorflow as tf\n",
    "import tensorflow.keras as keras\n",
    "import numpy as np\n",
    "\n",
    "tf.reset_default_graph()\n",
    "\n",
    "input_files = ['../cv/Vd-Orig.png']\n",
    "dataset = tf.data.Dataset.from_tensor_slices(input_files)\n",
    "def _parse_function(fn):\n",
    "    image = tf.read_file(fn)\n",
    "    image = tf.image.decode_png(image,channels=1)\n",
    "    image = tf.image.resize_images(image,[100,100])\n",
    "    image = tf.image.convert_image_dtype(image,tf.float32) # because of the conv layer\n",
    "    return image\n",
    "\n",
    "dataset = dataset.map(_parse_function).repeat().batch(1)\n",
    "iterator = dataset.make_one_shot_iterator()\n",
    "data = iterator.get_next()\n",
    "\n",
    "print('Data shape: ',data.shape)\n",
    "\n",
    "\n",
    "# Workaround for this bug: https://github.com/tensorflow/tensorflow/issues/1325\n",
    "def get_variable(name):\n",
    "    for v in tf.trainable_variables():\n",
    "        #print(v.name, v.shape)\n",
    "        if v.name == name:\n",
    "            return v\n",
    "    raise ValueError('Variable {} not found'.format(name))\n",
    "\n",
    "original_image = tf.image.encode_png(tf.squeeze(tf.image.convert_image_dtype(data,tf.uint8),[0]))\n",
    "write_orig = tf.io.write_file('_original.png',original_image)\n",
    "\n",
    "c = keras.layers.Conv2D(activation='linear',filters=1,kernel_size=(3,3), name='my_conv')(data)\n",
    "uint8_image = tf.image.encode_png(tf.squeeze(tf.image.convert_image_dtype(c,tf.uint8),[0]))\n",
    "write_convolved = tf.io.write_file('_convolved.png',uint8_image)\n",
    "\n",
    "kernel = get_variable('my_conv/kernel:0')\n",
    "bias = get_variable(\"my_conv/bias:0\")\n",
    "\n",
    "print('Conv output shape: ',c.shape)\n",
    "#print(kernel.shape)\n",
    "\n",
    "kernel_values = np.array([[-1,-1,-1],[-1,8,-1],[-1,-1,-1]]).reshape(kernel.shape) * 0.005\n",
    "init_kernel_op = tf.assign(kernel,kernel_values)\n",
    "\n",
    "bias_values = np.array([0])\n",
    "init_bias_op = tf.assign(bias,bias_values)\n",
    "\n"
   ]
  },
  {
   "cell_type": "code",
   "execution_count": 10,
   "metadata": {},
   "outputs": [
    {
     "name": "stdout",
     "output_type": "stream",
     "text": [
      "[array([[[[-0.005]],\n",
      "\n",
      "        [[-0.005]],\n",
      "\n",
      "        [[-0.005]]],\n",
      "\n",
      "\n",
      "       [[[-0.005]],\n",
      "\n",
      "        [[ 0.04 ]],\n",
      "\n",
      "        [[-0.005]]],\n",
      "\n",
      "\n",
      "       [[[-0.005]],\n",
      "\n",
      "        [[-0.005]],\n",
      "\n",
      "        [[-0.005]]]], dtype=float32)]\n"
     ]
    }
   ],
   "source": [
    "with tf.Session() as sess:\n",
    "    \n",
    "    sess.run([init_kernel_op,init_bias_op])\n",
    "    sess.run([write_orig,write_convolved])\n",
    "    k = sess.run([kernel])\n",
    "    print(k)"
   ]
  },
  {
   "cell_type": "code",
   "execution_count": null,
   "metadata": {},
   "outputs": [],
   "source": []
  }
 ],
 "metadata": {
  "kernelspec": {
   "display_name": "Python 3",
   "language": "python",
   "name": "python3"
  },
  "language_info": {
   "codemirror_mode": {
    "name": "ipython",
    "version": 3
   },
   "file_extension": ".py",
   "mimetype": "text/x-python",
   "name": "python",
   "nbconvert_exporter": "python",
   "pygments_lexer": "ipython3",
   "version": "3.6.4"
  }
 },
 "nbformat": 4,
 "nbformat_minor": 2
}
