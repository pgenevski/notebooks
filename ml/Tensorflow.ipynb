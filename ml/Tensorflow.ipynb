{
 "cells": [
  {
   "cell_type": "code",
   "execution_count": null,
   "metadata": {},
   "outputs": [],
   "source": [
    "%matplotlib inline\n",
    "\n",
    "import numpy as np\n",
    "import matplotlib.pyplot as plt\n",
    "import seaborn as sns\n",
    "sns.set(color_codes=True)\n",
    "\n",
    "import tensorflow as tf\n",
    "\n",
    "# y = ax + b\n",
    "x = tf.placeholder(tf.float32, (1,1)) # placeholders are used as inputs-tensors (see feed, feed_dict)\n",
    "\n",
    "a = tf.Variable(tf.random_uniform((1,1),-1,1)) # Variables are used as model parameters (trainable)\n",
    "b = tf.Variable(tf.zeros(1))\n",
    "\n",
    "y = tf.matmul(x,a) + b + 1# operations may be used as outputs (fetch)\n",
    "z = y +2 #and also chained as inputs to other operations"
   ]
  },
  {
   "cell_type": "code",
   "execution_count": 3,
   "metadata": {},
   "outputs": [
    {
     "name": "stdout",
     "output_type": "stream",
     "text": [
      "(array([[1.7588506]], dtype=float32), array([[3.7588506]], dtype=float32))\n"
     ]
    }
   ],
   "source": [
    "with tf.Session() as session:\n",
    "    merged = tf.summary.merge_all()\n",
    "    writer = tf.summary.FileWriter(\"tensorboard\", session.graph)\n",
    "    \n",
    "    session.run(tf.global_variables_initializer()) # get the above graph onto the execution env (e.g. GPU, CPU)\n",
    "    \n",
    "    # feed some data and compute the value of y\n",
    "    result = session.run((y,z),      # fetch\n",
    "                      {x: [[1]]} #feed\n",
    "                     )\n",
    "    print(result)\n"
   ]
  },
  {
   "cell_type": "code",
   "execution_count": null,
   "metadata": {},
   "outputs": [],
   "source": []
  }
 ],
 "metadata": {
  "kernelspec": {
   "display_name": "Python 3",
   "language": "python",
   "name": "python3"
  },
  "language_info": {
   "codemirror_mode": {
    "name": "ipython",
    "version": 3
   },
   "file_extension": ".py",
   "mimetype": "text/x-python",
   "name": "python",
   "nbconvert_exporter": "python",
   "pygments_lexer": "ipython3",
   "version": "3.6.4"
  }
 },
 "nbformat": 4,
 "nbformat_minor": 2
}
