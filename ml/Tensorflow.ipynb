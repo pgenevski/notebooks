{
 "cells": [
  {
   "cell_type": "markdown",
   "metadata": {},
   "source": [
    "# Overview\n",
    "\n",
    "Tensorflow is a library for high-performance (parallel, GPU accelerated ...) computation that also supports automatic reverse-mode differentiation (also referred to as backpropagation).\n",
    "\n",
    "Computations are expressed declaratively in the form of graphs and performed in a runtime environment (Session). \n",
    "\n",
    "## Runtimes\n",
    "Runtime environments can be local (CPU, GPU ..) or remote (distributed training). Here is how to get a list of the available execution environments:"
   ]
  },
  {
   "cell_type": "code",
   "execution_count": 1,
   "metadata": {},
   "outputs": [
    {
     "name": "stderr",
     "output_type": "stream",
     "text": [
      "c:\\users\\i040924\\appdata\\local\\programs\\python\\python36\\lib\\site-packages\\h5py\\__init__.py:36: FutureWarning: Conversion of the second argument of issubdtype from `float` to `np.floating` is deprecated. In future, it will be treated as `np.float64 == np.dtype(float).type`.\n",
      "  from ._conv import register_converters as _register_converters\n"
     ]
    },
    {
     "data": {
      "text/plain": [
       "['/device:CPU:0', '/device:GPU:0']"
      ]
     },
     "execution_count": 1,
     "metadata": {},
     "output_type": "execute_result"
    }
   ],
   "source": [
    "from tensorflow.python.client import device_lib\n",
    "[x.name for x in  device_lib.list_local_devices()]"
   ]
  },
  {
   "cell_type": "markdown",
   "metadata": {},
   "source": [
    "If both CPU and GPU are available, Tensorflow will use the GPU (hoping for better performance).\n",
    "\n",
    "## Graphs\n",
    "\n",
    "Computational graphs are composed of Values and Operations\n",
    "\n",
    "### Values (tensors)\n",
    "Values are always n-rank tensors (scalar, vector, matrix ...) with a given shape and dtype. Depending on their role in the computation they can be:\n",
    "* **[tf.constant](https://www.tensorflow.org/api_docs/python/tf/constant)** - these tensors are not supposed to change\n",
    "* **[tf.placeholder](https://www.tensorflow.org/api_docs/python/tf/placeholder)** - used to feed data into the computational graph (e.g. using a Python generator). Only shape is known in advance, but not value.\n",
    "* **[tf.Variable](https://www.tensorflow.org/api_docs/python/tf/Variable)** - these are the model parameters that will be optimized. Usually initialized randomly at the beginning of the computation. Because of the automatic differentiation (aka backpropagation), Tensorflow will automatically compute the gradients of a specified function (e.g. loss) with respect to all variables in the graph (unless told not to do this for some variables).\n",
    "\n",
    "Note: Strictly speaking, in tensorflow terminology, the above three are also operations that return tensors.\n",
    "\n",
    "References:\n",
    "\n",
    "[[1] Automatic differentiation](http://www.columbia.edu/~ahd2125/post/2015/12/5/)\n",
    "\n",
    "[[2] Backpropagation, Chris Olah](http://colah.github.io/posts/2015-08-Backprop/)\n",
    "\n",
    "### Operations\n",
    "[Operations](https://www.tensorflow.org/api_docs/python/tf/Operation) are used to perform computations with tensors. They  take $m \\in [1, \\infty)$ tensors as input and produce $n \\in [1,\\infty)$ tensors as output. Inputs to operations can be Values or outputs from other operations."
   ]
  },
  {
   "cell_type": "code",
   "execution_count": 2,
   "metadata": {},
   "outputs": [],
   "source": [
    "import tensorflow as tf\n",
    "\n",
    "# y = ax + b\n",
    "\n",
    "a = tf.constant(5.0, name='a')\n",
    "x = tf.placeholder(tf.float32, shape=(), name='x') # a scalar placeholder\n",
    "b = tf.Variable(tf.random_uniform((),-1,1), name='b')\n",
    "y = a*x + b # arithmetic operations are automatically converted to tf.Operation"
   ]
  },
  {
   "cell_type": "markdown",
   "metadata": {},
   "source": [
    "## Sessions\n",
    "[Sessions](https://www.tensorflow.org/api_docs/python/tf/Session#run) make it possible to feed data to the graph and extract (fetch) the resulting tensors. Only the fetched tensors will be evaluated."
   ]
  },
  {
   "cell_type": "code",
   "execution_count": 3,
   "metadata": {},
   "outputs": [
    {
     "name": "stdout",
     "output_type": "stream",
     "text": [
      "(0.9669719, 5.966972)\n"
     ]
    }
   ],
   "source": [
    "with tf.Session() as session:\n",
    "    \n",
    "    session.run(tf.global_variables_initializer()) # needed to collects put above graph into the execution env\n",
    "    \n",
    "    result = session.run((b,y),  # Fetch: Evaluate outputs of interest \n",
    "                          {x: 1} # Feed: Input data\n",
    "                         )\n",
    "    print(result)\n",
    "    \n"
   ]
  },
  {
   "cell_type": "markdown",
   "metadata": {},
   "source": [
    "# Visualizing graphs\n",
    "Tensorflow comes with a visualization tool called [**tensorboard**](https://youtu.be/eBbEDRsCmv4). Let's use this tool to visualize our graph.\n",
    "\n",
    "## Writing graphs\n",
    "Graphs are written to an output folder using the **tf.summary** module."
   ]
  },
  {
   "cell_type": "code",
   "execution_count": 4,
   "metadata": {},
   "outputs": [],
   "source": [
    "with tf.Session() as session:\n",
    "    writer = tf.summary.FileWriter(\"tensorboard1\", session.graph)"
   ]
  },
  {
   "cell_type": "markdown",
   "metadata": {},
   "source": [
    "Now run:\n",
    "\n",
    "```bash\n",
    "tensorboard --logdir tensorboard1\n",
    "```\n",
    "\n",
    "Then open the URL from the console in a browser where you can see this graph. The names of the variables that we set above will appear in the graph.\n",
    "\n",
    "![example_graph.png](example_graph.png \"Resulting graph\")\n",
    "\n",
    "## Name scopes\n",
    "When graphs become more complex, it makes sense to group elements to facilitate visualization. This can be achieved through name scopes:"
   ]
  },
  {
   "cell_type": "code",
   "execution_count": 5,
   "metadata": {},
   "outputs": [],
   "source": [
    "with tf.name_scope(\"Linear_function\"):\n",
    "    a1 = tf.constant(6.0, name='a1')\n",
    "    b1 = tf.Variable(tf.random_uniform((),-1,1), name='b1')\n",
    "    y1 = a1*x + b1 # arithmetic operations are automatically converted to tf.Operation\n",
    "\n",
    "z = y+y1\n",
    "with tf.Session() as session:\n",
    "    writer = tf.summary.FileWriter(\"tensorboard2\", session.graph)"
   ]
  },
  {
   "cell_type": "markdown",
   "metadata": {},
   "source": [
    "Now the operations in this name scope will appear in their own expandable box in the visulization.\n",
    "\n",
    "![graph_with_name_scope.png](graph_with_name_scope.png \"Resulting graph\")\n",
    "\n",
    "It is usually a good idea to also encapsulate the corresponding code in a function or a class.\n",
    "\n",
    "## Summaries\n",
    "\n",
    "Summaries are a way to\n",
    "\n",
    "TODO: summaries, histograms, activations\n"
   ]
  },
  {
   "cell_type": "code",
   "execution_count": 8,
   "metadata": {},
   "outputs": [
    {
     "name": "stdout",
     "output_type": "stream",
     "text": [
      "INFO:tensorflow:Summary name b summary is illegal; using b_summary instead.\n",
      "INFO:tensorflow:Summary name y hist is illegal; using y_hist instead.\n",
      "5.0177794\n",
      "5.0177794\n",
      "5.0177794\n",
      "5.0177794\n",
      "5.0177794\n",
      "5.0177794\n",
      "5.0177794\n",
      "5.0177794\n",
      "5.0177794\n",
      "5.0177794\n",
      "5.0177794\n",
      "5.0177794\n",
      "5.0177794\n",
      "5.0177794\n",
      "5.0177794\n",
      "5.0177794\n",
      "5.0177794\n",
      "5.0177794\n",
      "5.0177794\n",
      "5.0177794\n",
      "5.0177794\n",
      "5.0177794\n",
      "5.0177794\n",
      "5.0177794\n",
      "5.0177794\n",
      "5.0177794\n",
      "5.0177794\n",
      "5.0177794\n",
      "5.0177794\n",
      "5.0177794\n",
      "5.0177794\n",
      "5.0177794\n",
      "5.0177794\n",
      "5.0177794\n",
      "5.0177794\n",
      "5.0177794\n",
      "5.0177794\n",
      "5.0177794\n",
      "5.0177794\n",
      "5.0177794\n",
      "5.0177794\n",
      "5.0177794\n",
      "5.0177794\n",
      "5.0177794\n",
      "5.0177794\n",
      "5.0177794\n",
      "5.0177794\n",
      "5.0177794\n",
      "5.0177794\n",
      "5.0177794\n",
      "5.0177794\n",
      "5.0177794\n",
      "5.0177794\n",
      "5.0177794\n",
      "5.0177794\n",
      "5.0177794\n",
      "5.0177794\n",
      "5.0177794\n",
      "5.0177794\n",
      "5.0177794\n",
      "5.0177794\n",
      "5.0177794\n",
      "5.0177794\n",
      "5.0177794\n",
      "5.0177794\n",
      "5.0177794\n",
      "5.0177794\n",
      "5.0177794\n",
      "5.0177794\n",
      "5.0177794\n",
      "5.0177794\n",
      "5.0177794\n",
      "5.0177794\n",
      "5.0177794\n",
      "5.0177794\n",
      "5.0177794\n",
      "5.0177794\n",
      "5.0177794\n",
      "5.0177794\n",
      "5.0177794\n",
      "5.0177794\n",
      "5.0177794\n",
      "5.0177794\n",
      "5.0177794\n",
      "5.0177794\n",
      "5.0177794\n",
      "5.0177794\n",
      "5.0177794\n",
      "5.0177794\n",
      "5.0177794\n",
      "5.0177794\n",
      "5.0177794\n",
      "5.0177794\n",
      "5.0177794\n",
      "5.0177794\n",
      "5.0177794\n",
      "5.0177794\n",
      "5.0177794\n",
      "5.0177794\n",
      "5.0177794\n"
     ]
    }
   ],
   "source": [
    "tf.summary.scalar(\"b summary\", b)\n",
    "tf.summary.histogram(\"y hist\", y)\n",
    "merged_summary = tf.summary.merge_all() # merge all summary ops into a single op so that we execute all\n",
    "writer = tf.summary.FileWriter(\"tensorboard2\")\n",
    "\n",
    "with tf.Session() as session:\n",
    "    session.run(tf.global_variables_initializer())\n",
    "    for step in range(100):\n",
    "        (y_val,s_val) = session.run((y,merged_summary), {x: 1})\n",
    "        writer.add_summary(s_val)\n",
    "        print(y_val)"
   ]
  },
  {
   "cell_type": "code",
   "execution_count": null,
   "metadata": {},
   "outputs": [],
   "source": [
    "%matplotlib inline\n",
    "\n",
    "import numpy as np\n",
    "import matplotlib.pyplot as plt\n",
    "import seaborn as sns\n",
    "sns.set(color_codes=True)\n",
    "\n",
    "\n",
    "    \n"
   ]
  }
 ],
 "metadata": {
  "kernelspec": {
   "display_name": "Python 3",
   "language": "python",
   "name": "python3"
  },
  "language_info": {
   "codemirror_mode": {
    "name": "ipython",
    "version": 3
   },
   "file_extension": ".py",
   "mimetype": "text/x-python",
   "name": "python",
   "nbconvert_exporter": "python",
   "pygments_lexer": "ipython3",
   "version": "3.6.4"
  }
 },
 "nbformat": 4,
 "nbformat_minor": 2
}
