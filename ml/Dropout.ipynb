{
 "cells": [
  {
   "cell_type": "code",
   "execution_count": 16,
   "metadata": {},
   "outputs": [
    {
     "name": "stdout",
     "output_type": "stream",
     "text": [
      "_________________________________________________________________\n",
      "Layer (type)                 Output Shape              Param #   \n",
      "=================================================================\n",
      "input_1 (InputLayer)         (None, 100)               0         \n",
      "_________________________________________________________________\n",
      "dropout (Dropout)            (None, 100)               0         \n",
      "=================================================================\n",
      "Total params: 0\n",
      "Trainable params: 0\n",
      "Non-trainable params: 0\n",
      "_________________________________________________________________\n",
      "[[0. 5. 0. 0. 0. 0. 5. 0. 5. 0.]]\n",
      "Learning phase: True\n"
     ]
    }
   ],
   "source": [
    "import tensorflow as tf\n",
    "import tensorflow.keras as keras\n",
    "from tensorflow.keras import backend as K\n",
    "import numpy as np\n",
    "\n",
    "tf.reset_default_graph()\n",
    "\n",
    "data = np.ones((1,10),dtype=np.float32)\n",
    "p = tf.placeholder(tf.float32,shape=(None,10))\n",
    "\n",
    "inputs = keras.Input(shape=(100,)) #placeholder\n",
    "x = keras.layers.Dropout(0.8)(inputs)\n",
    "model = keras.models.Model(inputs=inputs, outputs=x)\n",
    "result=model(p)\n",
    "\n",
    "model.summary()\n",
    "\n",
    "\n",
    "with tf.Session() as sess:\n",
    "    sess.run(tf.global_variables_initializer())\n",
    "    \n",
    "    r,p = sess.run([result,K.learning_phase()],\n",
    "                   feed_dict={p:data,\n",
    "                              K.learning_phase():True\n",
    "                             })\n",
    "    \n",
    "    print(r)\n",
    "    print('Learning phase:',p)"
   ]
  }
 ],
 "metadata": {
  "kernelspec": {
   "display_name": "Python 3",
   "language": "python",
   "name": "python3"
  },
  "language_info": {
   "codemirror_mode": {
    "name": "ipython",
    "version": 3
   },
   "file_extension": ".py",
   "mimetype": "text/x-python",
   "name": "python",
   "nbconvert_exporter": "python",
   "pygments_lexer": "ipython3",
   "version": "3.6.4"
  }
 },
 "nbformat": 4,
 "nbformat_minor": 2
}
