{
 "cells": [
  {
   "cell_type": "markdown",
   "metadata": {},
   "source": [
    "# Compare performance of ImageDataGenerator and tf.data\n",
    "A quick experiment to evaluate how tf.data stands up to ImageDataGenerator. Experiment was conducted 5 times with max deviation from these results ~12%"
   ]
  },
  {
   "cell_type": "code",
   "execution_count": 1,
   "metadata": {},
   "outputs": [
    {
     "data": {
      "text/plain": [
       "('2.1.6-tf', '1.12.0')"
      ]
     },
     "execution_count": 1,
     "metadata": {},
     "output_type": "execute_result"
    }
   ],
   "source": [
    "import tensorflow as tf\n",
    "import tensorflow.keras as keras\n",
    "import numpy as np\n",
    "\n",
    "DATA_DIR = 'a folder with 320 jpeg images 299x299x3'\n",
    "keras.__version__,tf.__version__"
   ]
  },
  {
   "cell_type": "code",
   "execution_count": 15,
   "metadata": {},
   "outputs": [],
   "source": [
    "iv3 = keras.applications.inception_v3.InceptionV3(include_top=False, weights='imagenet',input_shape=(299, 299, 3))\n"
   ]
  },
  {
   "cell_type": "code",
   "execution_count": 3,
   "metadata": {},
   "outputs": [],
   "source": [
    "syntetic_data = np.random.randint(0,255,size=(6400,299,299,3))"
   ]
  },
  {
   "cell_type": "markdown",
   "metadata": {},
   "source": [
    "## In-memory data as a baseline "
   ]
  },
  {
   "cell_type": "code",
   "execution_count": 4,
   "metadata": {},
   "outputs": [
    {
     "name": "stdout",
     "output_type": "stream",
     "text": [
      "Wall time: 1min 20s\n"
     ]
    },
    {
     "data": {
      "text/plain": [
       "(6400, 8, 8, 2048)"
      ]
     },
     "execution_count": 4,
     "metadata": {},
     "output_type": "execute_result"
    }
   ],
   "source": [
    "%%time\n",
    "iv3.predict(syntetic_data,batch_size=64).shape"
   ]
  },
  {
   "cell_type": "markdown",
   "metadata": {},
   "source": [
    "## Using ImageDataGenerator"
   ]
  },
  {
   "cell_type": "code",
   "execution_count": 5,
   "metadata": {},
   "outputs": [
    {
     "name": "stdout",
     "output_type": "stream",
     "text": [
      "Found 320 images.\n"
     ]
    }
   ],
   "source": [
    "from tensorflow.keras.preprocessing.image import ImageDataGenerator\n",
    "import glob\n",
    "import pandas as pd\n",
    "\n",
    "files = glob.glob(DATA_DIR+'/*.JPG')\n",
    "df = pd.DataFrame({'filename': files})\n",
    "\n",
    "gen = ImageDataGenerator() \\\n",
    "        .flow_from_dataframe(df,class_mode=None,batch_size=64,target_size=(299,299))"
   ]
  },
  {
   "cell_type": "code",
   "execution_count": 6,
   "metadata": {},
   "outputs": [
    {
     "name": "stdout",
     "output_type": "stream",
     "text": [
      "Wall time: 12.5 s\n"
     ]
    }
   ],
   "source": [
    "%%time\n",
    "for i in range(100):\n",
    "    #nxt = next(gen)\n",
    "    nxt = keras.applications.inception_v3.preprocess_input(next(gen)) # needed for tensorflow backend\n",
    "    #print('batch {} : {} {}'.format(i,nxt.shape, nxt.dtype))"
   ]
  },
  {
   "cell_type": "code",
   "execution_count": 17,
   "metadata": {},
   "outputs": [],
   "source": [
    "iv3.compile(optimizer='adam',loss='mse') # why would that be required for predict_generator? -> RuntimeError: You must compile your model before using it."
   ]
  },
  {
   "cell_type": "code",
   "execution_count": 18,
   "metadata": {},
   "outputs": [
    {
     "name": "stdout",
     "output_type": "stream",
     "text": [
      "(6400, 8, 8, 2048)\n",
      "Wall time: 1min 11s\n"
     ]
    }
   ],
   "source": [
    "%%time\n",
    "out_generator = iv3.predict_generator(gen,steps=100)\n",
    "print(out_generator.shape)"
   ]
  },
  {
   "cell_type": "markdown",
   "metadata": {},
   "source": [
    "## Using tf.data pipeline"
   ]
  },
  {
   "cell_type": "code",
   "execution_count": 9,
   "metadata": {},
   "outputs": [],
   "source": [
    "dataset = tf.data.Dataset.from_tensor_slices(files)\n",
    "def _load_images(filename):\n",
    "    image = tf.read_file(filename)\n",
    "    image = tf.image.decode_jpeg(image,channels=3)\n",
    "    image = tf.image.resize_images(image, [299, 299])\n",
    "    image = keras.applications.inception_v3.preprocess_input(image)\n",
    "    return image\n",
    "\n",
    "dataset = dataset.map(_load_images)\n",
    "dataset = dataset.batch(64).repeat()\n",
    "\n",
    "iterator = dataset.make_one_shot_iterator()\n",
    "image = iterator.get_next()"
   ]
  },
  {
   "cell_type": "code",
   "execution_count": 10,
   "metadata": {},
   "outputs": [
    {
     "name": "stdout",
     "output_type": "stream",
     "text": [
      "Wall time: 14.6 s\n"
     ]
    }
   ],
   "source": [
    "%%time\n",
    "with tf.Session() as sess:\n",
    "    for i in range(100):\n",
    "        out = sess.run(image)\n",
    "        #print('batch {} : {} {}'.format(i,out.shape, out.dtype))"
   ]
  },
  {
   "cell_type": "code",
   "execution_count": 11,
   "metadata": {},
   "outputs": [
    {
     "name": "stdout",
     "output_type": "stream",
     "text": [
      "(6400, 8, 8, 2048)\n",
      "Wall time: 1min 24s\n"
     ]
    }
   ],
   "source": [
    "%%time\n",
    "out_tfdata = iv3.predict(image,steps=100)\n",
    "print(out_tfdata.shape)"
   ]
  },
  {
   "cell_type": "markdown",
   "metadata": {},
   "source": [
    "## Some observations\n",
    "* tf.data and ImageDataGenerator have similar performance on a singe machine. Maybe for distrubuted training it will be worth it to use tf.data (and for TPU it is required).\n",
    "* Observed CPU (i7-7820HQ) load was ~35% while GPU (NVidia Quadro M2200) load was 100%. \n",
    "* Data loading (from SSD) does not appear as a bottleneck for big models (e.g. Inception v3). However, smaller models or faster/more GPUs may require faster disks/RAID ..."
   ]
  },
  {
   "cell_type": "code",
   "execution_count": null,
   "metadata": {},
   "outputs": [],
   "source": []
  }
 ],
 "metadata": {
  "kernelspec": {
   "display_name": "Python 3",
   "language": "python",
   "name": "python3"
  },
  "language_info": {
   "codemirror_mode": {
    "name": "ipython",
    "version": 3
   },
   "file_extension": ".py",
   "mimetype": "text/x-python",
   "name": "python",
   "nbconvert_exporter": "python",
   "pygments_lexer": "ipython3",
   "version": "3.6.8"
  }
 },
 "nbformat": 4,
 "nbformat_minor": 2
}
