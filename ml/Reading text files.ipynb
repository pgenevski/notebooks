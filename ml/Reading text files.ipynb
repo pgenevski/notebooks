{
 "cells": [
  {
   "cell_type": "markdown",
   "metadata": {},
   "source": [
    "# Extracting data from text files\n",
    "### Read line by line"
   ]
  },
  {
   "cell_type": "code",
   "execution_count": 1,
   "metadata": {},
   "outputs": [
    {
     "name": "stdout",
     "output_type": "stream",
     "text": [
      "Crazy Fan\n",
      "\n",
      "cf@genevski.com\n",
      "\n",
      "Joined\n",
      "\n",
      "\t\n",
      "\n",
      "Lazy Coder\n",
      "\n",
      "lc@genevski.com\n",
      "\n",
      "Invited\n",
      "\n",
      "\t\n",
      "\n",
      "Nice Guy\n",
      "\n",
      "ng@genevski.com\n",
      "\n",
      "Maybe\n",
      "\n"
     ]
    }
   ],
   "source": [
    "from pathlib import Path\n",
    "\n",
    "path = Path('attendees.txt')\n",
    "\n",
    "with open(path) as f:\n",
    "    #content = f.readlines() # Loads all content in memory. Slow and inefficient.\n",
    "    for line in f: # Loads line by line\n",
    "        print(line)"
   ]
  },
  {
   "cell_type": "markdown",
   "metadata": {},
   "source": [
    "### Backwards?\n",
    "But what if we want to read it backwards? We can always read the whole file and reverse the list, but it is inefficent. Let's say the task is to get each attendee's attributes to a tuple and separate emails to two different lists by status:"
   ]
  },
  {
   "cell_type": "code",
   "execution_count": 2,
   "metadata": {},
   "outputs": [
    {
     "name": "stdout",
     "output_type": "stream",
     "text": [
      "ng@genevski.com;cf@genevski.com\n",
      "lc@genevski.com\n"
     ]
    }
   ],
   "source": [
    "from file_read_backwards import FileReadBackwards\n",
    "\n",
    "users = []\n",
    "to = []\n",
    "cc =  []\n",
    "with FileReadBackwards(path, encoding=\"utf-8\") as f: # This is a better approach.\n",
    "    iterator = f.iterator\n",
    "    for line in iterator:\n",
    "        if line in ['Joined','Invited','Maybe']:\n",
    "            status = line\n",
    "            email = next(iterator)\n",
    "            name = next(iterator)\n",
    "            users.append((name,email,status))\n",
    "            if status in ['Joined','Maybe']:\n",
    "                to.append(email)\n",
    "            else:\n",
    "                cc.append(email)\n",
    "            \n",
    "        #print(line)\n",
    "print(';'.join(to))\n",
    "print(';'.join(cc))"
   ]
  }
 ],
 "metadata": {
  "kernelspec": {
   "display_name": "Python 3",
   "language": "python",
   "name": "python3"
  },
  "language_info": {
   "codemirror_mode": {
    "name": "ipython",
    "version": 3
   },
   "file_extension": ".py",
   "mimetype": "text/x-python",
   "name": "python",
   "nbconvert_exporter": "python",
   "pygments_lexer": "ipython3",
   "version": "3.6.4"
  }
 },
 "nbformat": 4,
 "nbformat_minor": 2
}
