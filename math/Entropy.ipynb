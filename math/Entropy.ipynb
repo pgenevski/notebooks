{
 "cells": [
  {
   "cell_type": "markdown",
   "metadata": {},
   "source": [
    "# Examples of entropy calculation"
   ]
  },
  {
   "cell_type": "code",
   "execution_count": 81,
   "metadata": {},
   "outputs": [
    {
     "name": "stdout",
     "output_type": "stream",
     "text": [
      "Counts: [1 1]\n",
      "1.0\n"
     ]
    }
   ],
   "source": [
    "import numpy as np\n",
    "from scipy.stats import entropy\n",
    "from math import log, e\n",
    "import pandas as pd\n",
    "import seaborn as sns\n",
    "\n",
    "import timeit\n",
    "\n",
    "def entropy_bits(elements):\n",
    "  _,counts = np.unique(elements, return_counts=True)\n",
    "  print('Counts: {}'.format(counts))\n",
    "  return entropy(counts, base=2)\n",
    "\n",
    "\n",
    "print(entropy_bits([0,1]))"
   ]
  },
  {
   "cell_type": "code",
   "execution_count": 89,
   "metadata": {},
   "outputs": [
    {
     "name": "stdout",
     "output_type": "stream",
     "text": [
      "Counts: [3 3 3 2 2 5]\n",
      "Per element info: 2.5102415025019114 bits\n",
      "Message length: 18\n",
      "Total info: 45.18434704503441 bits\n"
     ]
    }
   ],
   "source": [
    "message = [0,1,2,3,4,5,0,1,2,3,4,5,0,1,2,5,5,5]\n",
    "e = entropy_bits(message)\n",
    "print('Per element info: {} bits'.format(e))\n",
    "print('Message length: {}'.format(len(message)))\n",
    "print('Total info: {} bits'.format(e * len(message)))"
   ]
  }
 ],
 "metadata": {
  "kernelspec": {
   "display_name": "Python 3",
   "language": "python",
   "name": "python3"
  },
  "language_info": {
   "codemirror_mode": {
    "name": "ipython",
    "version": 3
   },
   "file_extension": ".py",
   "mimetype": "text/x-python",
   "name": "python",
   "nbconvert_exporter": "python",
   "pygments_lexer": "ipython3",
   "version": "3.6.8"
  }
 },
 "nbformat": 4,
 "nbformat_minor": 2
}
