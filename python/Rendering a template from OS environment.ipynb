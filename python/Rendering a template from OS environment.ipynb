{
 "cells": [
  {
   "cell_type": "code",
   "execution_count": 29,
   "metadata": {},
   "outputs": [
    {
     "name": "stdout",
     "output_type": "stream",
     "text": [
      "PAGER: cat\n",
      "PAGER1: stuff1\n"
     ]
    }
   ],
   "source": [
    "from jinja2 import Template\n",
    "import os\n",
    "\n",
    "tpl = '''PAGER: {{ PAGER }}\\nPAGER1: {{PAGER1 }}'''\n",
    "template = Template(tpl)\n",
    "\n",
    "defaults = {'PAGER':'stuff','PAGER1':'stuff1'}\n",
    "data = {**defaults, **os.environ}  # fill in default values\n",
    "out = template.render(data)\n",
    "\n",
    "print(out)"
   ]
  },
  {
   "cell_type": "code",
   "execution_count": null,
   "metadata": {},
   "outputs": [],
   "source": []
  }
 ],
 "metadata": {
  "kernelspec": {
   "display_name": "Python 3",
   "language": "python",
   "name": "python3"
  },
  "language_info": {
   "codemirror_mode": {
    "name": "ipython",
    "version": 3
   },
   "file_extension": ".py",
   "mimetype": "text/x-python",
   "name": "python",
   "nbconvert_exporter": "python",
   "pygments_lexer": "ipython3",
   "version": "3.6.8"
  }
 },
 "nbformat": 4,
 "nbformat_minor": 2
}
