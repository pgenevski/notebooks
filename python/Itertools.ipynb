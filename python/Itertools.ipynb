{
 "cells": [
  {
   "cell_type": "code",
   "execution_count": 102,
   "metadata": {},
   "outputs": [],
   "source": [
    "import numpy as np\n",
    "from itertools import product, permutations, combinations, combinations_with_replacement \n",
    "\n",
    "# http://users.telenet.be/vdmoortel/dirk/Maths/PermVarComb.html"
   ]
  },
  {
   "cell_type": "markdown",
   "metadata": {},
   "source": [
    "## Cartesian product\n",
    "\n",
    "All possible $m$ times $n$ tuples with one element from each set. Like a nested for loop.\n",
    "\n",
    "Example: All possible heterosexual marriages between two sets of men and women."
   ]
  },
  {
   "cell_type": "code",
   "execution_count": 103,
   "metadata": {},
   "outputs": [
    {
     "data": {
      "text/plain": [
       "[(1, 3), (1, 4), (2, 3), (2, 4)]"
      ]
     },
     "execution_count": 103,
     "metadata": {},
     "output_type": "execute_result"
    }
   ],
   "source": [
    "list(product([1,2], [3,4]))"
   ]
  },
  {
   "cell_type": "markdown",
   "metadata": {},
   "source": [
    "## Variations with repetition\n",
    "\n",
    "These are the $n^k$ possible strings over the given alphabet size $n$ and string length $k$\n",
    "\n",
    "Example: Binary strings in computer memory can have $2^k$ states"
   ]
  },
  {
   "cell_type": "code",
   "execution_count": 104,
   "metadata": {},
   "outputs": [
    {
     "data": {
      "text/plain": [
       "[(1, 1), (1, 2), (1, 3), (2, 1), (2, 2), (2, 3), (3, 1), (3, 2), (3, 3)]"
      ]
     },
     "execution_count": 104,
     "metadata": {},
     "output_type": "execute_result"
    }
   ],
   "source": [
    "list(product([1,2,3], repeat=2))"
   ]
  },
  {
   "cell_type": "markdown",
   "metadata": {},
   "source": [
    "## Permutations\n",
    "$P_n = V_n^n = n!$\n",
    "\n",
    "Arrange elements in $n!$ ways.\n",
    "\n",
    "Example: Ordering people in a queue"
   ]
  },
  {
   "cell_type": "code",
   "execution_count": 105,
   "metadata": {},
   "outputs": [
    {
     "data": {
      "text/plain": [
       "[(1, 2, 3), (1, 3, 2), (2, 1, 3), (2, 3, 1), (3, 1, 2), (3, 2, 1)]"
      ]
     },
     "execution_count": 105,
     "metadata": {},
     "output_type": "execute_result"
    }
   ],
   "source": [
    "list(permutations([1,2,3])) "
   ]
  },
  {
   "cell_type": "markdown",
   "metadata": {},
   "source": [
    "## Variations\n",
    "$V_k^n= \\frac{n!}{(n-k)!}$\n",
    "\n",
    "\n",
    "Arrange $n$ elements and then pick $k$ elements in $V$ ways.\n",
    "\n",
    "Example: From 4 competitors, who gets 1st and 2nd prize."
   ]
  },
  {
   "cell_type": "code",
   "execution_count": 106,
   "metadata": {},
   "outputs": [
    {
     "data": {
      "text/plain": [
       "[(1, 2),\n",
       " (1, 3),\n",
       " (1, 4),\n",
       " (2, 1),\n",
       " (2, 3),\n",
       " (2, 4),\n",
       " (3, 1),\n",
       " (3, 2),\n",
       " (3, 4),\n",
       " (4, 1),\n",
       " (4, 2),\n",
       " (4, 3)]"
      ]
     },
     "execution_count": 106,
     "metadata": {},
     "output_type": "execute_result"
    }
   ],
   "source": [
    "list(permutations([1,2,3,4],2)) "
   ]
  },
  {
   "cell_type": "markdown",
   "metadata": {},
   "source": [
    "## Combinations\n",
    "$C_k^n = \\frac{n!}{k!(n-k)!} $\n",
    "\n",
    "Pick $k$ out of $n$ elements (order doesn't matter) in $C_k^n$ ways.\n",
    "\n",
    "Example: Lottery numbers"
   ]
  },
  {
   "cell_type": "code",
   "execution_count": 107,
   "metadata": {},
   "outputs": [
    {
     "data": {
      "text/plain": [
       "[(1, 2), (1, 3), (2, 3)]"
      ]
     },
     "execution_count": 107,
     "metadata": {},
     "output_type": "execute_result"
    }
   ],
   "source": [
    "list(combinations([1,2,3],2))"
   ]
  },
  {
   "cell_type": "markdown",
   "metadata": {},
   "source": [
    "## Combinations with replacement (repetition)\n",
    "$\\overline{C}_k^n = C_k^{n+k-1}  = \\frac{(n+k-1)!}{k!(k-1)!}$\n",
    "\n",
    "Example: Press $n$ buttons $k$ times in $\\overline{C}_k^n$ ways."
   ]
  },
  {
   "cell_type": "code",
   "execution_count": 108,
   "metadata": {},
   "outputs": [
    {
     "data": {
      "text/plain": [
       "[(1, 1), (1, 2), (1, 3), (2, 2), (2, 3), (3, 3)]"
      ]
     },
     "execution_count": 108,
     "metadata": {},
     "output_type": "execute_result"
    }
   ],
   "source": [
    "list(combinations_with_replacement([1,2,3],2))"
   ]
  },
  {
   "cell_type": "markdown",
   "metadata": {},
   "source": [
    "## Permutations with replacement (repetition)\n",
    "$P_{n_1,..,n_k} = \\frac{(\\sum n_i)!}{\\prod (n_i!)} = \\frac{N!}{A!.B!.C! ..}$\n",
    "\n",
    "Example: [rearrange the letters in the word MISSISSIPPI](https://www.youtube.com/watch?v=Mm0VNPars2M)\n",
    "\n",
    "Unfortunatelly itertools doesn't have a built-in function for this, so we implement it.\n",
    "\n",
    "[1] https://www.ck12.org/probability/permutations-with-repetition/lesson/Permutations-with-Repetition-BSC-PST/ \n",
    "\n",
    "[2] https://en.wikipedia.org/wiki/Heap%27s_algorithm\n",
    "\n",
    "[3] https://en.wikipedia.org/wiki/Permutation#Generation_in_lexicographic_order\n",
    "\n",
    "[4] https://www.nayuki.io/page/next-lexicographical-permutation-algorithm\n",
    "\n",
    "[5] https://www.reddit.com/r/compsci/comments/lxbtu/fastest_permutation_generation_algorithm/\n",
    "\n",
    "[6] https://github.com/seri/permutations\n",
    "\n",
    "[7] https://github.com/llimllib/personal_code/blob/master/python/permutation/quick_permute.py\n"
   ]
  },
  {
   "cell_type": "code",
   "execution_count": 109,
   "metadata": {},
   "outputs": [],
   "source": [
    "def permutations_with_replacement(seq, inplace=False, key=lambda a:a):\n",
    "    \"\"\"\n",
    "    A generator that generates permutations with replacement in lexicographical\n",
    "    order (either natural or defined by the key function)\n",
    "    \n",
    "    :param seq: The seq of elements to be permuted (duplciates allowed)\n",
    "    :param inplace: Set to true to manipulate the original sequence in place\n",
    "    :param key: a key function that \n",
    "    :returns: A generator that will generate all permutations in lexicographical order\n",
    "    :raises TypeError: if seq is not supplied\n",
    "    \"\"\"\n",
    "    def next_permutation(arr):\n",
    "\n",
    "        i = len(arr) - 1\n",
    "        while i > 0 and key(arr[i - 1]) >= key(arr[i]):\n",
    "            i -= 1\n",
    "        \n",
    "        if i <= 0:\n",
    "            return False\n",
    "\n",
    "        j = len(arr) - 1\n",
    "        while key(arr[j]) <= key(arr[i - 1]):\n",
    "            j -= 1\n",
    "\n",
    "        arr[i - 1], arr[j] = arr[j], arr[i - 1]\n",
    "        arr[i : ] = arr[len(arr) - 1 : i - 1 : -1]\n",
    "        return True\n",
    "    \n",
    "    \n",
    "    if inplace:\n",
    "        arr = seq\n",
    "    else:\n",
    "        arr = list(seq)\n",
    "        \n",
    "    arr.sort(key=key) # required in order to start with the 'smallest' permutation\n",
    "    \n",
    "    yield list(arr) # create a copy of the list to snapshot the current permutation\n",
    "    while next_permutation(arr):\n",
    "        yield list(arr)\n",
    "    \n"
   ]
  },
  {
   "cell_type": "code",
   "execution_count": 110,
   "metadata": {},
   "outputs": [
    {
     "data": {
      "text/plain": [
       "[['A', 'A', 'B', 'B'],\n",
       " ['A', 'B', 'A', 'B'],\n",
       " ['A', 'B', 'B', 'A'],\n",
       " ['B', 'A', 'A', 'B'],\n",
       " ['B', 'A', 'B', 'A'],\n",
       " ['B', 'B', 'A', 'A']]"
      ]
     },
     "execution_count": 110,
     "metadata": {},
     "output_type": "execute_result"
    }
   ],
   "source": [
    "arr = list('BABA')\n",
    "list(permutations_with_replacement(arr))"
   ]
  },
  {
   "cell_type": "code",
   "execution_count": 111,
   "metadata": {},
   "outputs": [
    {
     "data": {
      "text/plain": [
       "34650"
      ]
     },
     "execution_count": 111,
     "metadata": {},
     "output_type": "execute_result"
    }
   ],
   "source": [
    "len(list(permutations_with_replacement(list('MISSISSIPPI'))))"
   ]
  },
  {
   "cell_type": "code",
   "execution_count": 112,
   "metadata": {},
   "outputs": [
    {
     "data": {
      "text/plain": [
       "83160"
      ]
     },
     "execution_count": 112,
     "metadata": {},
     "output_type": "execute_result"
    }
   ],
   "source": [
    "len(list(permutations_with_replacement(list('ABRACADABRA'))))"
   ]
  },
  {
   "cell_type": "code",
   "execution_count": 113,
   "metadata": {},
   "outputs": [
    {
     "data": {
      "text/plain": [
       "3780"
      ]
     },
     "execution_count": 113,
     "metadata": {},
     "output_type": "execute_result"
    }
   ],
   "source": [
    "chars = list('ABRACADABRA')\n",
    "result = [x for x in permutations_with_replacement(chars) if ''.join(x).find('AA') < 0 ]\n",
    "len(result)"
   ]
  },
  {
   "cell_type": "markdown",
   "metadata": {},
   "source": [
    "![combinatorics.png](combinatorics.png \"Cheat sheet\")\n",
    "Source: http://users.telenet.be/vdmoortel/dirk/Maths/PermVarComb.html"
   ]
  },
  {
   "cell_type": "code",
   "execution_count": null,
   "metadata": {},
   "outputs": [],
   "source": []
  }
 ],
 "metadata": {
  "kernelspec": {
   "display_name": "Python 3",
   "language": "python",
   "name": "python3"
  },
  "language_info": {
   "codemirror_mode": {
    "name": "ipython",
    "version": 3
   },
   "file_extension": ".py",
   "mimetype": "text/x-python",
   "name": "python",
   "nbconvert_exporter": "python",
   "pygments_lexer": "ipython3",
   "version": "3.6.4"
  }
 },
 "nbformat": 4,
 "nbformat_minor": 2
}
