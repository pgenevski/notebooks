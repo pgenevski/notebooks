{
 "cells": [
  {
   "cell_type": "markdown",
   "metadata": {},
   "source": [
    "# Built-in types\n",
    "The principal built-in types are numerics, sequences, mappings, (files in Python 2), classes, instances and exceptions.\n",
    "All objects can be compared, tested for truth value, and converted to a string ( see repr() and str() ).\n",
    "\n",
    "## Numerics"
   ]
  },
  {
   "cell_type": "code",
   "execution_count": 21,
   "metadata": {},
   "outputs": [
    {
     "name": "stdout",
     "output_type": "stream",
     "text": [
      "<class 'int'>\n",
      "is_integer: False\n",
      "as_integer_ratio: (4728779608739021, 2251799813685248)\n"
     ]
    }
   ],
   "source": [
    "i = 3      # int is a signed integer with at least 32 bit precision (sys.maxsize <= int => and -sys.maxsize-1)\n",
    "print(type(i))\n",
    "#l = 2L   # long. Python 2 only! In Python 3 all ints are long.\n",
    "\n",
    "\n",
    "f = 2.1    # float (see sys.float_info for precision information)\n",
    "print('is_integer:',f.is_integer())\n",
    "print('as_integer_ratio:',f.as_integer_ratio())\n",
    "\n",
    "\n",
    "b = (False or True) and (True or False)  # bool is a subtype of int\n",
    "# None, False, 0 and empty sequences and collections evaluate to False.\n",
    "# Use __bool__() and __len__() to override in your class\n",
    "\n",
    "\n",
    "c = 1 + 2j # complex = two floats"
   ]
  },
  {
   "cell_type": "markdown",
   "metadata": {},
   "source": [
    "## Sequences\n",
    "Strings and tuples are immutable sequences with hash() and can be used as keys "
   ]
  },
  {
   "cell_type": "code",
   "execution_count": 55,
   "metadata": {},
   "outputs": [
    {
     "name": "stdout",
     "output_type": "stream",
     "text": [
      "Single line,Multi       \n",
      " line string\n",
      "s contains h: False\n",
      "The sum of 1 + 2 is 3, not 4\n",
      "John likes Mary\n",
      "John likes Mary\n",
      "0\n",
      "1\n",
      "2\n",
      "3\n"
     ]
    }
   ],
   "source": [
    "# Strings (immutable sequence of Unicode code points)\n",
    "s = 'Single line'   # Single and double quotes allowed\n",
    "ms = '''Multi       \n",
    " line string'''     # triple quotation(both single and double) is used for multi line strings (and comments)\n",
    "print(','.join((s,ms))) # Efficient joining. Source string is used as a separator.\n",
    "print(\"s contains h:\", 'h' in s)\n",
    "      \n",
    "print(\"The sum of 1 + 2 is {0}, not {1}\".format(3,4)) # positioned formatting\n",
    "print(\"{man} likes {woman}\".format(man=\"John\",woman=\"Mary\")) # with kwargs\n",
    "print(\"{man} likes {woman}\".format_map({\"man\":\"John\",\"woman\":\"Mary\"})) # with a dictionary\n",
    "\n",
    "# Lists (Array backed. Typically for homogeneous items, but mixed types are allowed)\n",
    "colors = ['red', 'blue', 'green', 'black', 'white'] \n",
    "\n",
    "# Tuples (immutable lists, typically for heterogeneous items)\n",
    "t = (1,'two',3,4.1,5)\n",
    "\n",
    "# Ranges (immutable sequence of numbers generated lazily. Used for looping)\n",
    "for i in range(4): # range(start,stop[,step])\n",
    "    print(i)"
   ]
  },
  {
   "cell_type": "markdown",
   "metadata": {},
   "source": [
    "## Byte sequences\n",
    "'bytes' behave like immutable sequences of integers with values between 0,255"
   ]
  },
  {
   "cell_type": "code",
   "execution_count": 54,
   "metadata": {},
   "outputs": [
    {
     "name": "stdout",
     "output_type": "stream",
     "text": [
      "b'\\x00\\x00\\x00\\x00\\x00' b'1234abcdABCD' b'.\\xf0\\xf1\\xf2'\n",
      "12\n",
      "bytearray(b'1234abcdABCD')\n",
      "bytearray(b'a234abcdABCD')\n"
     ]
    }
   ],
   "source": [
    "b1 = bytes(5) # five zeroed bytes\n",
    "b2 = b'1234abcdABCD'  # ASCII to bytes\n",
    "b3 = bytes.fromhex('2ef0 f1f2')\n",
    "print(b1,b2,b3)\n",
    "\n",
    "ba = bytearray(b2) # muttable byte sequence\n",
    "print(len(ba))\n",
    "\n",
    "print(ba)\n",
    "mv = memoryview(ba) # used to modify the underlying object in place (it must support the buffer protocol)\n",
    "mv[0] = 97 # ASCII A\n",
    "print(ba)"
   ]
  },
  {
   "cell_type": "markdown",
   "metadata": {},
   "source": [
    "# Common operations on sequences"
   ]
  },
  {
   "cell_type": "code",
   "execution_count": 96,
   "metadata": {
    "scrolled": true
   },
   "outputs": [
    {
     "name": "stdout",
     "output_type": "stream",
     "text": [
      "['red', 'blue', 'green', 'black', 'white']\n",
      "green\n",
      "white\n",
      "['green', 'black']\n",
      "['green', 'black']\n",
      "['green', 'black', 'white']\n",
      "['red', 'green', 'white']\n",
      "['white', 'green', 'red']\n",
      "['yellow', 1, 'gray', 'purple', 'white']\n",
      "['yellow', 1, 'gray', 'purple', 'white', 'pink']\n",
      "['yellow', 1, 'gray', 'purple', 'white']\n",
      "['yellow', 1, 'gray', 'purple', 'white', 'pink', 'purple']\n",
      "[1, 'gray', 'purple', 'white', 'pink', 'purple']\n",
      "None\n",
      "['purple', 'pink', 'white', 'purple', 'gray', 1]\n",
      "['yellow', 1, 'gray', 'purple', 'white', 'pink', 'purple']\n",
      "['yellow', 1, 'gray', 'purple', 'white', 'pink', 'purple', 'purple', 'pink', 'white', 'purple', 'gray', 1]\n",
      "['not purple', 'pink', 'white', 'purple', 'gray', 1]\n",
      "['yellow', 1, 'gray', 'purple', 'white', 'pink', 'purple', 'purple', 'pink', 'white', 'purple', 'gray', 1]\n",
      "['yellow', 1, 'gray', 'purple', 'white', 'pink', 'purple', 'yellow', 1, 'gray', 'purple', 'white', 'pink', 'purple']\n",
      "['gray', 'one', 'pink', 'purple', 'purple', 'white', 'yellow']\n",
      "['yellow', 'one', 'gray', 'purple', 'white', 'pink', 'purple']\n",
      "['gray', 'one', 'pink', 'purple', 'purple', 'white', 'yellow']\n",
      "[1, 'gray', 'one', 'purple', 'purple', 'white', 'yellow']\n"
     ]
    }
   ],
   "source": [
    "colors = ['red', 'blue', 'green', 'black', 'white']  # type(colors) = list\n",
    "\n",
    "# indexing:\n",
    "# 1. list[index]\n",
    "# 2. list[begin:end]\n",
    "# 3. list[begin:end:step]\n",
    "print(colors)\n",
    "print(colors[0])   # first item (zero indexed)\n",
    "print(colors[-1])  # last item (index backwards)\n",
    "\n",
    "print(colors[2:4])   # ranges (begin, end)\n",
    "print(colors[-3:-1]) # ranges (begin, end)\n",
    "print(colors[2:])  # third element to the end\n",
    "\n",
    "print(colors[::2]) # every second element (first to last)\n",
    "print(colors[::-2]) # same but backwards\n",
    "\n",
    "colors[0] = 'yellow' # lists are mutable\n",
    "colors[2:4] = ['gray', 'purple'] # multiple assignment\n",
    "colors [1] = 1 # mixed types allowed\n",
    "print(colors)\n",
    "\n",
    "colors.append(\"pink\")\n",
    "print(colors)\n",
    "\n",
    "p = colors.pop() # get and remove last element\n",
    "print(colors)\n",
    "\n",
    "colors.extend(['pink', 'purple']) # add multiple items (in place)\n",
    "print(colors)\n",
    "\n",
    "colors2 = colors[1:] # all range operations return a copy of the array\n",
    "print(colors2)\n",
    "\n",
    "colors3 = colors2.reverse() # reverse in place (without creating a copy) returns None\n",
    "print(colors3)\n",
    "print(colors2)\n",
    "print(colors)\n",
    "\n",
    "colors3 = colors + colors2 # concatenate arrays into a new array\n",
    "print(colors3)\n",
    "colors2[0] = 'not purple'\n",
    "print(colors2)\n",
    "print(colors3) # the new array is not modified when the original array is\n",
    "\n",
    "colors3 = colors * 2 # same as colors + colors\n",
    "print(colors3) \n",
    "\n",
    "colors[1] = 'one' # otherwise sorting will break because str < int is not supported\n",
    "colors3 = sorted(colors) # creates a sorted copy\n",
    "print(colors3) \n",
    "print(colors)\n",
    "\n",
    "\n",
    "colors.sort() # sort in place\n",
    "print(colors)\n",
    "\n",
    "colors4 = list(colors) # create a copy\n",
    "colors4.insert(0,1)  # isert at index,value\n",
    "colors4.remove(\"pink\") # remove first occurence of a given element\n",
    "print(colors4)\n",
    "\n",
    "\n"
   ]
  },
  {
   "cell_type": "markdown",
   "metadata": {},
   "source": [
    "## Sets\n",
    "A set object is an unordered collection of distinct hashable objects. Common uses include membership testing, removing duplicates from a sequence, and computing mathematical operations such as intersection, union, difference, and symmetric difference"
   ]
  },
  {
   "cell_type": "code",
   "execution_count": 60,
   "metadata": {},
   "outputs": [
    {
     "name": "stdout",
     "output_type": "stream",
     "text": [
      "{'a', 'b', 'c'}\n",
      "{'a', 'b'}\n",
      "{'a', 'c'}\n"
     ]
    }
   ],
   "source": [
    "s = set(('a', 'b', 'c', 'a')) # construct from iterable\n",
    "f = frozenset(s)              # can't be modified -> is hashable -> can be used as a key\n",
    "print(s)\n",
    "print( s.difference(('c')) )\n",
    "s.remove('b')\n",
    "print(s)\n",
    "\n"
   ]
  },
  {
   "cell_type": "markdown",
   "metadata": {},
   "source": [
    "## Dictionaries (mapping type)\n",
    "A mapping object maps hashable values to arbitrary objects. Mappings are mutable objects. There is currently only one standard mapping type, the dictionary."
   ]
  },
  {
   "cell_type": "code",
   "execution_count": 56,
   "metadata": {},
   "outputs": [
    {
     "name": "stdout",
     "output_type": "stream",
     "text": [
      "True\n",
      "5752\n",
      "None\n",
      "not found\n",
      "False\n",
      "dict_keys(['emmanuelle', 'sebastian', 'francis'])\n",
      "dict_values([5752, 5578, 5915])\n",
      "dict_items([('emmanuelle', 5752), ('sebastian', 5578), ('francis', 5915)])\n",
      "1 -> one\n",
      "2 -> two\n",
      "3 -> three\n"
     ]
    }
   ],
   "source": [
    "# several constructors possible\n",
    "d1 = dict(one=1, two=2, three=3)                   # kwargs\n",
    "d2 = {'one': 1, 'two': 2, 'three': 3}              # key:value pairs\n",
    "d3 = dict(zip(['one', 'two', 'three'], [1, 2, 3])) # separate lists of keys and values\n",
    "d4 = dict([('two', 2), ('one', 1), ('three', 3)])  # key-value tuples\n",
    "d5 = dict({'three': 3, 'one': 1, 'two': 2})        # from another dict\n",
    "print(d1 == d2 == d3 == d4 == d5)\n",
    "\n",
    "tel =  {'emmanuelle': 5752, 'sebastian': 5578}\n",
    "tel['francis'] = 5915\n",
    "print(tel['emmanuelle'])\n",
    "# print(tel['nonexisting key']) -> error\n",
    "print(tel.get('nonexisting key')) # return None instead of error\n",
    "print(tel.get('nonexisting key','not found')) # get with a default value\n",
    "print('nonexisting key' in tel) # check if a key is present\n",
    "\n",
    "print(tel.keys())\n",
    "print(tel.values())\n",
    "print(tel.items()) # returns a list of key,value tuples\n",
    "for k,v in d.items():\n",
    "    print('{0} -> {1}'.format(k, v))"
   ]
  },
  {
   "cell_type": "markdown",
   "metadata": {},
   "source": [
    "# Memory management\n",
    "Variables are references to objects values in the object space. Values (incl. literals like strings, ints, bools) are usually interned.\n",
    "\n",
    "http://foobarnbaz.com/2012/07/08/understanding-python-variables/"
   ]
  },
  {
   "cell_type": "code",
   "execution_count": 43,
   "metadata": {},
   "outputs": [
    {
     "name": "stdout",
     "output_type": "stream",
     "text": [
      "140579123155072 = 140579123155072\n",
      "b is c: True\n",
      "s1 is s2: False\n",
      "140578912886664\n",
      "140578912886664\n",
      "[5, 6]\n",
      "Recursion limit: 4000\n",
      "0\n",
      "1000000\n"
     ]
    }
   ],
   "source": [
    "a = 10      # interning is done for some values (short strings and numbers between -5:256 in CPython)\n",
    "b = 10      # references the same value -> id(a) = id(b)  \n",
    "c = 11\n",
    "b+=1        # now b references the value 11 which is also referenced by c\n",
    "print(id(b),\"=\",id(c))\n",
    "print(\"b is c:\", b is c)\n",
    "\n",
    "from sys import intern\n",
    "s1 = \"dfasdflajsdl;fjlskadjf;alksdjf;akjsldf\"\n",
    "intern(s1)\n",
    "s2 = \"dfasdflajsdl;fjlskadjf;alksdjf;akjsldf\"  # will point to the already interned string\n",
    "print(\"s1 is s2:\", s1 is s2)\n",
    "\n",
    "# Mutable object are changed in-place\n",
    "arr = [1,2,3]\n",
    "print(id(arr))\n",
    "arr[:] = [5,6] # in place modification (will not create a new object)\n",
    "print(id(arr))\n",
    "print(arr)\n",
    "\n",
    "\n",
    "# Stack overflow may be caused if:\n",
    "# 1. The max recursion depth is reached\n",
    "# 2. The threading.stack_size is reached\n",
    "\n",
    "import sys\n",
    "import threading\n",
    "print(\"Recursion limit:\",sys.getrecursionlimit())  # 3000 nested funciton calls\n",
    "def rec(x):\n",
    "    if(x == 0):\n",
    "        return x\n",
    "    else:\n",
    "        return rec(x-1)\n",
    "    \n",
    "# rec(3001) # hits the recursion limit\n",
    "sys.setrecursionlimit(4000)\n",
    "print(rec(3001)) # now runs fine\n",
    "\n",
    "threading.stack_size(1000000)   # setting the thread stack size is also posible on some platforms\n",
    "print(threading.stack_size())"
   ]
  },
  {
   "cell_type": "markdown",
   "metadata": {},
   "source": [
    "# Control flow\n",
    "CAUTION: https://docs.python.org/3/library/stdtypes.html#truth-value-testing\n",
    "\n",
    "By default, an object is considered true unless its class defines either a ``__bool__()`` method that returns False or a ``__len__()`` method that returns zero.\n",
    "\n",
    "These values are also considered false:\n",
    "* None, False\n",
    "* zero numeric literals: 0, 0.0, 0j, Decimal(0), Fraction(0, 1)\n",
    "* empty sequences (also strings) and collections: '', (), [], {}, set(), range(0)"
   ]
  },
  {
   "cell_type": "code",
   "execution_count": 47,
   "metadata": {},
   "outputs": [
    {
     "name": "stdout",
     "output_type": "stream",
     "text": [
      "three\n",
      "0\n",
      "1\n",
      "2\n",
      "Python is cool\n",
      "Python is powerful\n",
      "Python is readable\n",
      "1\n",
      "2\n",
      "3\n",
      "4\n",
      "False\n",
      "[0, 1, 4, 9]\n"
     ]
    }
   ],
   "source": [
    "a = 3\n",
    "if a == 2:\n",
    "    print('two') # indentation is mandatory (use 4 spaces, NOT TABS !!!)\n",
    "elif a == 3:\n",
    "    print('three')\n",
    "else:\n",
    "    print('not two or three')\n",
    "    \n",
    "    \n",
    "# Loops    \n",
    "for i in range(3):\n",
    "    print(i)\n",
    "    \n",
    "for word in ('cool', 'powerful', 'readable'):\n",
    "    print('Python is %s' % word)\n",
    "    \n",
    "z = 0;\n",
    "while(z < 4):\n",
    "    z+=1\n",
    "    print(z) # break and continue also work in loops\n",
    "\n",
    "# empty strings are false\n",
    "if \"\":\n",
    "    print('True')\n",
    "else:\n",
    "    print('False')\n",
    "            \n",
    "# generate a list of squares\n",
    "print( [i**2 for i in range(4)] )"
   ]
  },
  {
   "cell_type": "markdown",
   "metadata": {},
   "source": [
    "# Exceptions"
   ]
  },
  {
   "cell_type": "code",
   "execution_count": 260,
   "metadata": {},
   "outputs": [
    {
     "name": "stdout",
     "output_type": "stream",
     "text": [
      "value error\n",
      "finally\n"
     ]
    }
   ],
   "source": [
    "def raiseStuff():\n",
    "    raise ValueError\n",
    "\n",
    "try:\n",
    "    #1/0\n",
    "    raiseStuff()\n",
    "except ValueError:\n",
    "    print(\"value error\")\n",
    "except ZeroDivisionError:\n",
    "    print(\"zero div error\")\n",
    "finally:\n",
    "    print(\"finally\")"
   ]
  },
  {
   "cell_type": "markdown",
   "metadata": {},
   "source": [
    "# Basic I/O"
   ]
  },
  {
   "cell_type": "code",
   "execution_count": 62,
   "metadata": {},
   "outputs": [
    {
     "name": "stdout",
     "output_type": "stream",
     "text": [
      ">This is a test \n",
      "\n",
      ">and another test\n",
      "Working directory: /notebooks/Python intro\n",
      "Path parent: : /notebooks/Python intro\n",
      "Path name: junk.txt\n"
     ]
    }
   ],
   "source": [
    "path = \"/data/test.txt\"\n",
    "\n",
    "# the 'classic' way\n",
    "try:\n",
    "   f = open(path,\"w\")\n",
    "   f.write('This is a test \\nand another test')\n",
    "finally:\n",
    "   f.close()\n",
    "\n",
    "# A better approach with context managers. The file will be closed automatically.\n",
    "# http://eigenhombre.com/2013/04/20/introduction-to-context-managers\n",
    "with open(path, 'r') as f:\n",
    "    for line in f:\n",
    "        print(\">\" + line)\n",
    "\n",
    "\n",
    "import os\n",
    "print(\"Working directory:\" ,os.getcwd())\n",
    "\n",
    "a = os.path.abspath('junk.txt')\n",
    "(p,n) = os.path.split(a)\n",
    "print(\"Path parent: :\",p)\n",
    "print(\"Path name:\",n)"
   ]
  }
 ],
 "metadata": {
  "kernelspec": {
   "display_name": "Python 3",
   "language": "python",
   "name": "python3"
  },
  "language_info": {
   "codemirror_mode": {
    "name": "ipython",
    "version": 3
   },
   "file_extension": ".py",
   "mimetype": "text/x-python",
   "name": "python",
   "nbconvert_exporter": "python",
   "pygments_lexer": "ipython3",
   "version": "3.6.3"
  }
 },
 "nbformat": 4,
 "nbformat_minor": 2
}
